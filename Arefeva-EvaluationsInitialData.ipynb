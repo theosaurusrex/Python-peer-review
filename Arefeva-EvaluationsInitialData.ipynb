{
 "cells": [
  {
   "cell_type": "code",
   "execution_count": null,
   "metadata": {},
   "outputs": [],
   "source": [
    "# check if CSV is present\n",
    "import os.path\n",
    "\n",
    "if os.path.isfile('re420.csv'):\n",
    "    print (\"File exists\")\n",
    "else:\n",
    "    print (\"File 're420.csv' does not exist in the folder. Please save or export a copy of Qualtrics data as 're420.csv'\")"
   ]
  },
  {
   "cell_type": "code",
   "execution_count": null,
   "metadata": {},
   "outputs": [],
   "source": [
    "# Import data libraries\n",
    "\n",
    "import pandas as pd\n",
    "import numpy as np\n",
    "\n",
    "# import CSV to variable\n",
    "\n",
    "RE420csvInput = 're420.csv'\n",
    "\n",
    "# render CSV to dataframe\n",
    "df1 = pd.read_csv(RE420csvInput, skiprows=0,header=0)\n",
    "df1\n",
    "\n"
   ]
  },
  {
   "cell_type": "code",
   "execution_count": null,
   "metadata": {
    "scrolled": false
   },
   "outputs": [],
   "source": [
    "# User that submitted survey, and selfscore\n",
    "# new dataframe containing columns by name using .loc\n",
    "\n",
    "selfGrade = df1.loc[:,['Q1#1_1_1','Q1#1_1_2']]\n",
    "selfGrade.rename(columns={\"Q1#1_1_1\": \"student\", \"Q1#1_1_2\": \"score\"},inplace=True)\n",
    "\n",
    "selfGrade.set_index('student')\n",
    "\n",
    "\n"
   ]
  },
  {
   "cell_type": "code",
   "execution_count": null,
   "metadata": {},
   "outputs": [],
   "source": [
    "# summary_ave_data.sort_values('student',inplace=True)\n"
   ]
  },
  {
   "cell_type": "code",
   "execution_count": null,
   "metadata": {},
   "outputs": [],
   "source": [
    "# Peer reviews of group-members\n",
    "# new dataframe containing columns by name using .loc\n",
    "peerGradesMember1 = df1.loc[:,['Q1#1_2_1','Q1#1_2_2']]\n",
    "peerGradesMember2 = df1.loc[:,['Q1#1_3_1','Q1#1_3_2']]\n",
    "peerGradesMember3 = df1.loc[:,['Q1#1_4_1','Q1#1_4_2']]\n",
    "peerGradesMember4 = df1.loc[:,['Q1#1_5_1','Q1#1_5_2']]\n",
    "peerGradesMember5 = df1.loc[:,['Q1#1_6_1','Q1#1_6_2']]\n",
    "\n",
    "# rename columns \"student\" and \"score\"\n",
    "peerGradesMember1.rename(columns={\"Q1#1_2_1\": \"student\", \"Q1#1_2_2\": \"score\"},inplace=True)\n",
    "peerGradesMember2.rename(columns={\"Q1#1_3_1\": \"student\", \"Q1#1_3_2\": \"score\"},inplace=True)\n",
    "peerGradesMember3.rename(columns={\"Q1#1_4_1\": \"student\", \"Q1#1_4_2\": \"score\"},inplace=True)\n",
    "peerGradesMember4.rename(columns={\"Q1#1_5_1\": \"student\", \"Q1#1_5_2\": \"score\"},inplace=True)\n",
    "peerGradesMember5.rename(columns={\"Q1#1_6_1\": \"student\", \"Q1#1_6_2\": \"score\"},inplace=True)\n",
    "\n",
    "# remove top two rows that contain inconsistent data\n",
    "peerGradesMember1.drop(peerGradesMember1.index[0:2],inplace=True)\n",
    "peerGradesMember2.drop(peerGradesMember2.index[0:2],inplace=True)\n",
    "peerGradesMember3.drop(peerGradesMember3.index[0:2],inplace=True)\n",
    "peerGradesMember4.drop(peerGradesMember4.index[0:2],inplace=True)\n",
    "peerGradesMember5.drop(peerGradesMember5.index[0:2],inplace=True)"
   ]
  },
  {
   "cell_type": "code",
   "execution_count": null,
   "metadata": {},
   "outputs": [],
   "source": [
    "peerGradesMember1"
   ]
  },
  {
   "cell_type": "code",
   "execution_count": null,
   "metadata": {},
   "outputs": [],
   "source": [
    "peerGradesMember2"
   ]
  },
  {
   "cell_type": "code",
   "execution_count": null,
   "metadata": {},
   "outputs": [],
   "source": [
    "frames = [peerGradesMember1,peerGradesMember2,peerGradesMember3,peerGradesMember4,peerGradesMember5]\n",
    "peerGradesMembers= pd.concat(frames, sort=False)\n",
    "\n",
    "peerGradesMembers = peerGradesMembers.reset_index(drop=True)\n",
    "\n",
    "peerGradesMembers "
   ]
  },
  {
   "cell_type": "code",
   "execution_count": null,
   "metadata": {},
   "outputs": [],
   "source": [
    "# Added a column containing average of rows\n",
    "# https://stackoverflow.com/questions/31698861/add-column-to-the-end-of-pandas-dataframe-containing-average-of-previous-data\n",
    "summary_ave_data = peerGradesMembers.copy()\n",
    "summary_ave_data.sort_values('student',inplace=True)\n",
    "# summary_ave_data['average'] = summary_ave_data.mean(numeric_only=True, axis=1)\n",
    "# summary_ave_data['average'] = summary_ave_data['student'].mean(numeric_only=True, axis=1) \n",
    "summary_ave_data\n",
    "\n"
   ]
  },
  {
   "cell_type": "code",
   "execution_count": null,
   "metadata": {},
   "outputs": [],
   "source": [
    "summary_ave_data = summary_ave_data.dropna()\n",
    "# summary_ave_data.drop('0','1')\n",
    "summary_ave_data[summary_ave_data.student.str.contains('You will') == False]\n",
    "# summary_ave_data[summary_ave_data.student.str.contains('ImportId') == False]\n",
    "# summary_ave_data[~summary_ave_data.str.startswith('You will','{')]"
   ]
  },
  {
   "cell_type": "code",
   "execution_count": null,
   "metadata": {},
   "outputs": [],
   "source": [
    "# average_peer_review"
   ]
  },
  {
   "cell_type": "code",
   "execution_count": null,
   "metadata": {},
   "outputs": [],
   "source": [
    "# Average score and student name only\n",
    "datatype_peer_review = summary_ave_data.astype({'student':str,'score':float})\n",
    "\n",
    "\n",
    "average_peer_review = datatype_peer_review.groupby('student').mean()\n",
    "\n",
    "average_peer_review"
   ]
  },
  {
   "cell_type": "code",
   "execution_count": null,
   "metadata": {
    "scrolled": true
   },
   "outputs": [],
   "source": [
    "average_peer_review.to_csv('test1.csv')"
   ]
  },
  {
   "cell_type": "code",
   "execution_count": null,
   "metadata": {},
   "outputs": [],
   "source": [
    "# Wisc canvas API: https://wisc.instructure.com/doc/api/live#!/groups.json\n",
    "# https://canvas.instructure.com/doc/api/groups.html\n",
    "# python API wrapper for Canvas: https://github.com/ucfopen/canvasapi\n",
    "\n",
    "# import requests\n",
    "\n",
    "# user id\n",
    "\n",
    "# token\n",
    "\n",
    "# ask for course id and all groups and names in groups in course\n",
    "#     Target:https://canvas.wisc.edu/courses/193493/groups\n",
    "#     GET /api/v1/courses/:course_id/groups\n",
    "# GET \n",
    "# print list of names in groups\n",
    "\n"
   ]
  }
 ],
 "metadata": {
  "kernelspec": {
   "display_name": "Python 3",
   "language": "python",
   "name": "python3"
  },
  "language_info": {
   "codemirror_mode": {
    "name": "ipython",
    "version": 3
   },
   "file_extension": ".py",
   "mimetype": "text/x-python",
   "name": "python",
   "nbconvert_exporter": "python",
   "pygments_lexer": "ipython3",
   "version": "3.7.3"
  }
 },
 "nbformat": 4,
 "nbformat_minor": 2
}
